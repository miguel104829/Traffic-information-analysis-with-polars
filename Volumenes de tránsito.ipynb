{
 "cells": [
  {
   "cell_type": "code",
   "execution_count": 2,
   "id": "fa9db7c6",
   "metadata": {},
   "outputs": [],
   "source": [
    "import polars as pl\n",
    "import matplotlib.pyplot as plt"
   ]
  },
  {
   "cell_type": "code",
   "execution_count": 3,
   "id": "5316a582",
   "metadata": {},
   "outputs": [],
   "source": [
    "archivo_csv = 'C:/Users/migue/Downloads/Tr_fico_Vehicular_ANI.csv'"
   ]
  },
  {
   "cell_type": "code",
   "execution_count": 5,
   "id": "450de226",
   "metadata": {},
   "outputs": [],
   "source": [
    "df = pl.read_csv(archivo_csv)"
   ]
  },
  {
   "cell_type": "code",
   "execution_count": 6,
   "id": "f835ce95",
   "metadata": {},
   "outputs": [
    {
     "name": "stdout",
     "output_type": "stream",
     "text": [
      "shape: (5, 9)\n",
      "┌─────────┬──────────┬────────────┬────────────┬───┬───────────┬───────────┬───────────┬───────────┐\n",
      "│ IdPeaje ┆ Peaje    ┆ CategoriaT ┆ Desde      ┆ … ┆ ValorTari ┆ CantidadT ┆ CantidadE ┆ CantidadE │\n",
      "│ ---     ┆ ---      ┆ arifa      ┆ ---        ┆   ┆ fa        ┆ rafico    ┆ vasores   ┆ xentos787 │\n",
      "│ i64     ┆ str      ┆ ---        ┆ str        ┆   ┆ ---       ┆ ---       ┆ ---       ┆ ---       │\n",
      "│         ┆          ┆ str        ┆            ┆   ┆ i64       ┆ i64       ┆ i64       ┆ i64       │\n",
      "╞═════════╪══════════╪════════════╪════════════╪═══╪═══════════╪═══════════╪═══════════╪═══════════╡\n",
      "│ 1       ┆ ALVARADO ┆ I          ┆ 08/21/2015 ┆ … ┆ 7000      ┆ 27730     ┆ 0         ┆ 660       │\n",
      "│         ┆          ┆            ┆ 12:00:00   ┆   ┆           ┆           ┆           ┆           │\n",
      "│         ┆          ┆            ┆ AM         ┆   ┆           ┆           ┆           ┆           │\n",
      "│ 1       ┆ ALVARADO ┆ II         ┆ 08/21/2015 ┆ … ┆ 7600      ┆ 9930      ┆ 0         ┆ 70        │\n",
      "│         ┆          ┆            ┆ 12:00:00   ┆   ┆           ┆           ┆           ┆           │\n",
      "│         ┆          ┆            ┆ AM         ┆   ┆           ┆           ┆           ┆           │\n",
      "│ 1       ┆ ALVARADO ┆ III        ┆ 08/21/2015 ┆ … ┆ 16100     ┆ 1277      ┆ 0         ┆ 0         │\n",
      "│         ┆          ┆            ┆ 12:00:00   ┆   ┆           ┆           ┆           ┆           │\n",
      "│         ┆          ┆            ┆ AM         ┆   ┆           ┆           ┆           ┆           │\n",
      "│ 1       ┆ ALVARADO ┆ IV         ┆ 08/21/2015 ┆ … ┆ 20400     ┆ 2074      ┆ 0         ┆ 0         │\n",
      "│         ┆          ┆            ┆ 12:00:00   ┆   ┆           ┆           ┆           ┆           │\n",
      "│         ┆          ┆            ┆ AM         ┆   ┆           ┆           ┆           ┆           │\n",
      "│ 1       ┆ ALVARADO ┆ V          ┆ 08/21/2015 ┆ … ┆ 22900     ┆ 4167      ┆ 0         ┆ 0         │\n",
      "│         ┆          ┆            ┆ 12:00:00   ┆   ┆           ┆           ┆           ┆           │\n",
      "│         ┆          ┆            ┆ AM         ┆   ┆           ┆           ┆           ┆           │\n",
      "└─────────┴──────────┴────────────┴────────────┴───┴───────────┴───────────┴───────────┴───────────┘\n"
     ]
    }
   ],
   "source": [
    "print(df.head())"
   ]
  },
  {
   "cell_type": "code",
   "execution_count": 7,
   "id": "75b22aad",
   "metadata": {},
   "outputs": [
    {
     "data": {
      "text/plain": [
       "(102812, 9)"
      ]
     },
     "execution_count": 7,
     "metadata": {},
     "output_type": "execute_result"
    }
   ],
   "source": [
    "df.shape"
   ]
  },
  {
   "cell_type": "code",
   "execution_count": 8,
   "id": "66da78e7",
   "metadata": {},
   "outputs": [
    {
     "name": "stdout",
     "output_type": "stream",
     "text": [
      "['IdPeaje', 'Peaje', 'CategoriaTarifa', 'Desde', 'Hasta', 'ValorTarifa', 'CantidadTrafico', 'CantidadEvasores', 'CantidadExentos787']\n"
     ]
    }
   ],
   "source": [
    "encabezados = df.columns\n",
    "print(encabezados)"
   ]
  },
  {
   "cell_type": "code",
   "execution_count": 17,
   "id": "5d829892",
   "metadata": {},
   "outputs": [
    {
     "name": "stderr",
     "output_type": "stream",
     "text": [
      "C:\\Users\\migue\\AppData\\Local\\Temp\\ipykernel_17276\\2587997180.py:5: DeprecationWarning: `apply` is deprecated. It has been renamed to `map_elements`.\n",
      "  (pl.col('CategoriaTarifa').apply(lambda x: mapeo_numerico.get(x)).alias('CategoriaNumerica'))\n"
     ]
    },
    {
     "name": "stdout",
     "output_type": "stream",
     "text": [
      "shape: (102_812, 11)\n",
      "┌─────────┬──────────┬────────────┬────────────┬───┬───────────┬───────────┬───────────┬───────────┐\n",
      "│ IdPeaje ┆ Peaje    ┆ CategoriaT ┆ Desde      ┆ … ┆ CantidadE ┆ CantidadE ┆ Categpria ┆ Categoria │\n",
      "│ ---     ┆ ---      ┆ arifa      ┆ ---        ┆   ┆ vasores   ┆ xentos787 ┆ Numerica  ┆ Numerica  │\n",
      "│ i64     ┆ str      ┆ ---        ┆ str        ┆   ┆ ---       ┆ ---       ┆ ---       ┆ ---       │\n",
      "│         ┆          ┆ str        ┆            ┆   ┆ i64       ┆ i64       ┆ i64       ┆ i64       │\n",
      "╞═════════╪══════════╪════════════╪════════════╪═══╪═══════════╪═══════════╪═══════════╪═══════════╡\n",
      "│ 1       ┆ ALVARADO ┆ I          ┆ 08/21/2015 ┆ … ┆ 0         ┆ 660       ┆ 1         ┆ 1         │\n",
      "│         ┆          ┆            ┆ 12:00:00   ┆   ┆           ┆           ┆           ┆           │\n",
      "│         ┆          ┆            ┆ AM         ┆   ┆           ┆           ┆           ┆           │\n",
      "│ 1       ┆ ALVARADO ┆ II         ┆ 08/21/2015 ┆ … ┆ 0         ┆ 70        ┆ 2         ┆ 2         │\n",
      "│         ┆          ┆            ┆ 12:00:00   ┆   ┆           ┆           ┆           ┆           │\n",
      "│         ┆          ┆            ┆ AM         ┆   ┆           ┆           ┆           ┆           │\n",
      "│ 1       ┆ ALVARADO ┆ III        ┆ 08/21/2015 ┆ … ┆ 0         ┆ 0         ┆ 3         ┆ 3         │\n",
      "│         ┆          ┆            ┆ 12:00:00   ┆   ┆           ┆           ┆           ┆           │\n",
      "│         ┆          ┆            ┆ AM         ┆   ┆           ┆           ┆           ┆           │\n",
      "│ 1       ┆ ALVARADO ┆ IV         ┆ 08/21/2015 ┆ … ┆ 0         ┆ 0         ┆ 4         ┆ 4         │\n",
      "│         ┆          ┆            ┆ 12:00:00   ┆   ┆           ┆           ┆           ┆           │\n",
      "│         ┆          ┆            ┆ AM         ┆   ┆           ┆           ┆           ┆           │\n",
      "│ 1       ┆ ALVARADO ┆ V          ┆ 08/21/2015 ┆ … ┆ 0         ┆ 0         ┆ 5         ┆ 5         │\n",
      "│         ┆          ┆            ┆ 12:00:00   ┆   ┆           ┆           ┆           ┆           │\n",
      "│         ┆          ┆            ┆ AM         ┆   ┆           ┆           ┆           ┆           │\n",
      "│ …       ┆ …        ┆ …          ┆ …          ┆ … ┆ …         ┆ …         ┆ …         ┆ …         │\n",
      "│ 185     ┆ ABURRÁ   ┆ IV         ┆ 06/01/2022 ┆ … ┆ 0         ┆ 0         ┆ 4         ┆ 4         │\n",
      "│         ┆          ┆            ┆ 12:00:00   ┆   ┆           ┆           ┆           ┆           │\n",
      "│         ┆          ┆            ┆ AM         ┆   ┆           ┆           ┆           ┆           │\n",
      "│ 185     ┆ ABURRÁ   ┆ V          ┆ 06/01/2022 ┆ … ┆ 0         ┆ 1         ┆ 5         ┆ 5         │\n",
      "│         ┆          ┆            ┆ 12:00:00   ┆   ┆           ┆           ┆           ┆           │\n",
      "│         ┆          ┆            ┆ AM         ┆   ┆           ┆           ┆           ┆           │\n",
      "│ 185     ┆ ABURRÁ   ┆ EA         ┆ 06/01/2022 ┆ … ┆ 0         ┆ 0         ┆ 6         ┆ 6         │\n",
      "│         ┆          ┆            ┆ 12:00:00   ┆   ┆           ┆           ┆           ┆           │\n",
      "│         ┆          ┆            ┆ AM         ┆   ┆           ┆           ┆           ┆           │\n",
      "│ 185     ┆ ABURRÁ   ┆ IE1        ┆ 06/01/2022 ┆ … ┆ null      ┆ null      ┆ null      ┆ null      │\n",
      "│         ┆          ┆            ┆ 12:00:00   ┆   ┆           ┆           ┆           ┆           │\n",
      "│         ┆          ┆            ┆ AM         ┆   ┆           ┆           ┆           ┆           │\n",
      "│ 185     ┆ ABURRÁ   ┆ IIE1       ┆ 06/01/2022 ┆ … ┆ null      ┆ null      ┆ null      ┆ null      │\n",
      "│         ┆          ┆            ┆ 12:00:00   ┆   ┆           ┆           ┆           ┆           │\n",
      "│         ┆          ┆            ┆ AM         ┆   ┆           ┆           ┆           ┆           │\n",
      "└─────────┴──────────┴────────────┴────────────┴───┴───────────┴───────────┴───────────┴───────────┘\n"
     ]
    }
   ],
   "source": [
    "mapeo_numerico = {'I': 1, 'II': 2, 'III': 3, 'IV': 4, 'V': 5, 'EA': 6, 'EG': 7, 'ER': 8, 'IE': 9}\n",
    "\n",
    "df = df.select([\n",
    "    pl.col('*'),  # Seleccionar todas las columnas existentes\n",
    "    (pl.col('CategoriaTarifa').apply(lambda x: mapeo_numerico.get(x)).alias('CategoriaNumerica'))\n",
    "])\n",
    "\n",
    "# Imprimir el dataframe actualizado\n",
    "print(df)"
   ]
  },
  {
   "cell_type": "code",
   "execution_count": 23,
   "id": "ea5ce75f",
   "metadata": {},
   "outputs": [],
   "source": [
    "df = df.drop(\"CategpriaNumerica\")\n"
   ]
  },
  {
   "cell_type": "code",
   "execution_count": 24,
   "id": "65894031",
   "metadata": {},
   "outputs": [
    {
     "name": "stdout",
     "output_type": "stream",
     "text": [
      "shape: (102_812, 10)\n",
      "┌─────────┬──────────┬────────────┬────────────┬───┬───────────┬───────────┬───────────┬───────────┐\n",
      "│ IdPeaje ┆ Peaje    ┆ CategoriaT ┆ Desde      ┆ … ┆ CantidadT ┆ CantidadE ┆ CantidadE ┆ Categoria │\n",
      "│ ---     ┆ ---      ┆ arifa      ┆ ---        ┆   ┆ rafico    ┆ vasores   ┆ xentos787 ┆ Numerica  │\n",
      "│ i64     ┆ str      ┆ ---        ┆ str        ┆   ┆ ---       ┆ ---       ┆ ---       ┆ ---       │\n",
      "│         ┆          ┆ str        ┆            ┆   ┆ i64       ┆ i64       ┆ i64       ┆ i64       │\n",
      "╞═════════╪══════════╪════════════╪════════════╪═══╪═══════════╪═══════════╪═══════════╪═══════════╡\n",
      "│ 1       ┆ ALVARADO ┆ I          ┆ 08/21/2015 ┆ … ┆ 27730     ┆ 0         ┆ 660       ┆ 1         │\n",
      "│         ┆          ┆            ┆ 12:00:00   ┆   ┆           ┆           ┆           ┆           │\n",
      "│         ┆          ┆            ┆ AM         ┆   ┆           ┆           ┆           ┆           │\n",
      "│ 1       ┆ ALVARADO ┆ II         ┆ 08/21/2015 ┆ … ┆ 9930      ┆ 0         ┆ 70        ┆ 2         │\n",
      "│         ┆          ┆            ┆ 12:00:00   ┆   ┆           ┆           ┆           ┆           │\n",
      "│         ┆          ┆            ┆ AM         ┆   ┆           ┆           ┆           ┆           │\n",
      "│ 1       ┆ ALVARADO ┆ III        ┆ 08/21/2015 ┆ … ┆ 1277      ┆ 0         ┆ 0         ┆ 3         │\n",
      "│         ┆          ┆            ┆ 12:00:00   ┆   ┆           ┆           ┆           ┆           │\n",
      "│         ┆          ┆            ┆ AM         ┆   ┆           ┆           ┆           ┆           │\n",
      "│ 1       ┆ ALVARADO ┆ IV         ┆ 08/21/2015 ┆ … ┆ 2074      ┆ 0         ┆ 0         ┆ 4         │\n",
      "│         ┆          ┆            ┆ 12:00:00   ┆   ┆           ┆           ┆           ┆           │\n",
      "│         ┆          ┆            ┆ AM         ┆   ┆           ┆           ┆           ┆           │\n",
      "│ 1       ┆ ALVARADO ┆ V          ┆ 08/21/2015 ┆ … ┆ 4167      ┆ 0         ┆ 0         ┆ 5         │\n",
      "│         ┆          ┆            ┆ 12:00:00   ┆   ┆           ┆           ┆           ┆           │\n",
      "│         ┆          ┆            ┆ AM         ┆   ┆           ┆           ┆           ┆           │\n",
      "│ …       ┆ …        ┆ …          ┆ …          ┆ … ┆ …         ┆ …         ┆ …         ┆ …         │\n",
      "│ 185     ┆ ABURRÁ   ┆ IV         ┆ 06/01/2022 ┆ … ┆ 4117      ┆ 0         ┆ 0         ┆ 4         │\n",
      "│         ┆          ┆            ┆ 12:00:00   ┆   ┆           ┆           ┆           ┆           │\n",
      "│         ┆          ┆            ┆ AM         ┆   ┆           ┆           ┆           ┆           │\n",
      "│ 185     ┆ ABURRÁ   ┆ V          ┆ 06/01/2022 ┆ … ┆ 11835     ┆ 0         ┆ 1         ┆ 5         │\n",
      "│         ┆          ┆            ┆ 12:00:00   ┆   ┆           ┆           ┆           ┆           │\n",
      "│         ┆          ┆            ┆ AM         ┆   ┆           ┆           ┆           ┆           │\n",
      "│ 185     ┆ ABURRÁ   ┆ EA         ┆ 06/01/2022 ┆ … ┆ 246       ┆ 0         ┆ 0         ┆ 6         │\n",
      "│         ┆          ┆            ┆ 12:00:00   ┆   ┆           ┆           ┆           ┆           │\n",
      "│         ┆          ┆            ┆ AM         ┆   ┆           ┆           ┆           ┆           │\n",
      "│ 185     ┆ ABURRÁ   ┆ IE1        ┆ 06/01/2022 ┆ … ┆ 4092      ┆ null      ┆ null      ┆ null      │\n",
      "│         ┆          ┆            ┆ 12:00:00   ┆   ┆           ┆           ┆           ┆           │\n",
      "│         ┆          ┆            ┆ AM         ┆   ┆           ┆           ┆           ┆           │\n",
      "│ 185     ┆ ABURRÁ   ┆ IIE1       ┆ 06/01/2022 ┆ … ┆ 496       ┆ null      ┆ null      ┆ null      │\n",
      "│         ┆          ┆            ┆ 12:00:00   ┆   ┆           ┆           ┆           ┆           │\n",
      "│         ┆          ┆            ┆ AM         ┆   ┆           ┆           ┆           ┆           │\n",
      "└─────────┴──────────┴────────────┴────────────┴───┴───────────┴───────────┴───────────┴───────────┘\n"
     ]
    }
   ],
   "source": [
    "print(df)"
   ]
  },
  {
   "cell_type": "code",
   "execution_count": 25,
   "id": "5b797272",
   "metadata": {},
   "outputs": [],
   "source": [
    "df_alvarado = df.filter(df['Peaje'] == 'ALVARADO')"
   ]
  },
  {
   "cell_type": "code",
   "execution_count": 26,
   "id": "d04e19b3",
   "metadata": {},
   "outputs": [
    {
     "name": "stdout",
     "output_type": "stream",
     "text": [
      "shape: (767, 10)\n",
      "┌─────────┬──────────┬────────────┬────────────┬───┬───────────┬───────────┬───────────┬───────────┐\n",
      "│ IdPeaje ┆ Peaje    ┆ CategoriaT ┆ Desde      ┆ … ┆ CantidadT ┆ CantidadE ┆ CantidadE ┆ Categoria │\n",
      "│ ---     ┆ ---      ┆ arifa      ┆ ---        ┆   ┆ rafico    ┆ vasores   ┆ xentos787 ┆ Numerica  │\n",
      "│ i64     ┆ str      ┆ ---        ┆ str        ┆   ┆ ---       ┆ ---       ┆ ---       ┆ ---       │\n",
      "│         ┆          ┆ str        ┆            ┆   ┆ i64       ┆ i64       ┆ i64       ┆ i64       │\n",
      "╞═════════╪══════════╪════════════╪════════════╪═══╪═══════════╪═══════════╪═══════════╪═══════════╡\n",
      "│ 1       ┆ ALVARADO ┆ I          ┆ 08/21/2015 ┆ … ┆ 27730     ┆ 0         ┆ 660       ┆ 1         │\n",
      "│         ┆          ┆            ┆ 12:00:00   ┆   ┆           ┆           ┆           ┆           │\n",
      "│         ┆          ┆            ┆ AM         ┆   ┆           ┆           ┆           ┆           │\n",
      "│ 1       ┆ ALVARADO ┆ II         ┆ 08/21/2015 ┆ … ┆ 9930      ┆ 0         ┆ 70        ┆ 2         │\n",
      "│         ┆          ┆            ┆ 12:00:00   ┆   ┆           ┆           ┆           ┆           │\n",
      "│         ┆          ┆            ┆ AM         ┆   ┆           ┆           ┆           ┆           │\n",
      "│ 1       ┆ ALVARADO ┆ III        ┆ 08/21/2015 ┆ … ┆ 1277      ┆ 0         ┆ 0         ┆ 3         │\n",
      "│         ┆          ┆            ┆ 12:00:00   ┆   ┆           ┆           ┆           ┆           │\n",
      "│         ┆          ┆            ┆ AM         ┆   ┆           ┆           ┆           ┆           │\n",
      "│ 1       ┆ ALVARADO ┆ IV         ┆ 08/21/2015 ┆ … ┆ 2074      ┆ 0         ┆ 0         ┆ 4         │\n",
      "│         ┆          ┆            ┆ 12:00:00   ┆   ┆           ┆           ┆           ┆           │\n",
      "│         ┆          ┆            ┆ AM         ┆   ┆           ┆           ┆           ┆           │\n",
      "│ 1       ┆ ALVARADO ┆ V          ┆ 08/21/2015 ┆ … ┆ 4167      ┆ 0         ┆ 0         ┆ 5         │\n",
      "│         ┆          ┆            ┆ 12:00:00   ┆   ┆           ┆           ┆           ┆           │\n",
      "│         ┆          ┆            ┆ AM         ┆   ┆           ┆           ┆           ┆           │\n",
      "│ …       ┆ …        ┆ …          ┆ …          ┆ … ┆ …         ┆ …         ┆ …         ┆ …         │\n",
      "│ 1       ┆ ALVARADO ┆ IV         ┆ 06/01/2022 ┆ … ┆ 12735     ┆ 0         ┆ 43        ┆ 4         │\n",
      "│         ┆          ┆            ┆ 12:00:00   ┆   ┆           ┆           ┆           ┆           │\n",
      "│         ┆          ┆            ┆ AM         ┆   ┆           ┆           ┆           ┆           │\n",
      "│ 1       ┆ ALVARADO ┆ V          ┆ 06/01/2022 ┆ … ┆ 5265      ┆ 0         ┆ 1         ┆ 5         │\n",
      "│         ┆          ┆            ┆ 12:00:00   ┆   ┆           ┆           ┆           ┆           │\n",
      "│         ┆          ┆            ┆ AM         ┆   ┆           ┆           ┆           ┆           │\n",
      "│ 1       ┆ ALVARADO ┆ VI         ┆ 06/01/2022 ┆ … ┆ 4334      ┆ 0         ┆ 0         ┆ null      │\n",
      "│         ┆          ┆            ┆ 12:00:00   ┆   ┆           ┆           ┆           ┆           │\n",
      "│         ┆          ┆            ┆ AM         ┆   ┆           ┆           ┆           ┆           │\n",
      "│ 1       ┆ ALVARADO ┆ VII        ┆ 06/01/2022 ┆ … ┆ 12818     ┆ 0         ┆ 1         ┆ null      │\n",
      "│         ┆          ┆            ┆ 12:00:00   ┆   ┆           ┆           ┆           ┆           │\n",
      "│         ┆          ┆            ┆ AM         ┆   ┆           ┆           ┆           ┆           │\n",
      "│ 1       ┆ ALVARADO ┆ IE         ┆ 06/01/2022 ┆ … ┆ 1579      ┆ null      ┆ null      ┆ 9         │\n",
      "│         ┆          ┆            ┆ 12:00:00   ┆   ┆           ┆           ┆           ┆           │\n",
      "│         ┆          ┆            ┆ AM         ┆   ┆           ┆           ┆           ┆           │\n",
      "└─────────┴──────────┴────────────┴────────────┴───┴───────────┴───────────┴───────────┴───────────┘\n"
     ]
    }
   ],
   "source": [
    "tabla_alvarado = pl.DataFrame(df_alvarado)\n",
    "print(tabla_alvarado)\n"
   ]
  },
  {
   "cell_type": "code",
   "execution_count": 27,
   "id": "e88e80ce",
   "metadata": {},
   "outputs": [
    {
     "name": "stdout",
     "output_type": "stream",
     "text": [
      "shape: (45, 10)\n",
      "┌─────────┬──────────┬────────────┬────────────┬───┬───────────┬───────────┬───────────┬───────────┐\n",
      "│ IdPeaje ┆ Peaje    ┆ CategoriaT ┆ Desde      ┆ … ┆ CantidadT ┆ CantidadE ┆ CantidadE ┆ Categoria │\n",
      "│ ---     ┆ ---      ┆ arifa      ┆ ---        ┆   ┆ rafico    ┆ vasores   ┆ xentos787 ┆ Numerica  │\n",
      "│ i64     ┆ str      ┆ ---        ┆ str        ┆   ┆ ---       ┆ ---       ┆ ---       ┆ ---       │\n",
      "│         ┆          ┆ str        ┆            ┆   ┆ i64       ┆ i64       ┆ i64       ┆ i64       │\n",
      "╞═════════╪══════════╪════════════╪════════════╪═══╪═══════════╪═══════════╪═══════════╪═══════════╡\n",
      "│ 1       ┆ ALVARADO ┆ I          ┆ 08/21/2015 ┆ … ┆ 27730     ┆ 0         ┆ 660       ┆ 1         │\n",
      "│         ┆          ┆            ┆ 12:00:00   ┆   ┆           ┆           ┆           ┆           │\n",
      "│         ┆          ┆            ┆ AM         ┆   ┆           ┆           ┆           ┆           │\n",
      "│ 1       ┆ ALVARADO ┆ II         ┆ 08/21/2015 ┆ … ┆ 9930      ┆ 0         ┆ 70        ┆ 2         │\n",
      "│         ┆          ┆            ┆ 12:00:00   ┆   ┆           ┆           ┆           ┆           │\n",
      "│         ┆          ┆            ┆ AM         ┆   ┆           ┆           ┆           ┆           │\n",
      "│ 1       ┆ ALVARADO ┆ III        ┆ 08/21/2015 ┆ … ┆ 1277      ┆ 0         ┆ 0         ┆ 3         │\n",
      "│         ┆          ┆            ┆ 12:00:00   ┆   ┆           ┆           ┆           ┆           │\n",
      "│         ┆          ┆            ┆ AM         ┆   ┆           ┆           ┆           ┆           │\n",
      "│ 1       ┆ ALVARADO ┆ IV         ┆ 08/21/2015 ┆ … ┆ 2074      ┆ 0         ┆ 0         ┆ 4         │\n",
      "│         ┆          ┆            ┆ 12:00:00   ┆   ┆           ┆           ┆           ┆           │\n",
      "│         ┆          ┆            ┆ AM         ┆   ┆           ┆           ┆           ┆           │\n",
      "│ 1       ┆ ALVARADO ┆ V          ┆ 08/21/2015 ┆ … ┆ 4167      ┆ 0         ┆ 0         ┆ 5         │\n",
      "│         ┆          ┆            ┆ 12:00:00   ┆   ┆           ┆           ┆           ┆           │\n",
      "│         ┆          ┆            ┆ AM         ┆   ┆           ┆           ┆           ┆           │\n",
      "│ …       ┆ …        ┆ …          ┆ …          ┆ … ┆ …         ┆ …         ┆ …         ┆ …         │\n",
      "│ 1       ┆ ALVARADO ┆ V          ┆ 12/01/2015 ┆ … ┆ 11826     ┆ 0         ┆ 4         ┆ 5         │\n",
      "│         ┆          ┆            ┆ 12:00:00   ┆   ┆           ┆           ┆           ┆           │\n",
      "│         ┆          ┆            ┆ AM         ┆   ┆           ┆           ┆           ┆           │\n",
      "│ 1       ┆ ALVARADO ┆ EA         ┆ 12/01/2015 ┆ … ┆ 27        ┆ 0         ┆ 0         ┆ 6         │\n",
      "│         ┆          ┆            ┆ 12:00:00   ┆   ┆           ┆           ┆           ┆           │\n",
      "│         ┆          ┆            ┆ AM         ┆   ┆           ┆           ┆           ┆           │\n",
      "│ 1       ┆ ALVARADO ┆ EG         ┆ 12/01/2015 ┆ … ┆ 18        ┆ 0         ┆ 0         ┆ 7         │\n",
      "│         ┆          ┆            ┆ 12:00:00   ┆   ┆           ┆           ┆           ┆           │\n",
      "│         ┆          ┆            ┆ AM         ┆   ┆           ┆           ┆           ┆           │\n",
      "│ 1       ┆ ALVARADO ┆ ER         ┆ 12/01/2015 ┆ … ┆ 126       ┆ 0         ┆ 0         ┆ 8         │\n",
      "│         ┆          ┆            ┆ 12:00:00   ┆   ┆           ┆           ┆           ┆           │\n",
      "│         ┆          ┆            ┆ AM         ┆   ┆           ┆           ┆           ┆           │\n",
      "│ 1       ┆ ALVARADO ┆ IE         ┆ 12/01/2015 ┆ … ┆ 1388      ┆ null      ┆ null      ┆ 9         │\n",
      "│         ┆          ┆            ┆ 12:00:00   ┆   ┆           ┆           ┆           ┆           │\n",
      "│         ┆          ┆            ┆ AM         ┆   ┆           ┆           ┆           ┆           │\n",
      "└─────────┴──────────┴────────────┴────────────┴───┴───────────┴───────────┴───────────┴───────────┘\n"
     ]
    }
   ],
   "source": [
    "df_alvarado_2015 = df_alvarado.filter(df_alvarado['Desde'].str.contains('2015'))\n",
    "tabla_alvarado_2015 = df_alvarado_2015\n",
    "print(tabla_alvarado_2015)"
   ]
  },
  {
   "cell_type": "code",
   "execution_count": 38,
   "id": "b74981f7",
   "metadata": {},
   "outputs": [
    {
     "data": {
      "image/png": "[encoded data removed]",
      "text/plain": [
       "<Figure size 640x480 with 1 Axes>"
      ]
     },
     "metadata": {},
     "output_type": "display_data"
    }
   ],
   "source": [
    "plt.plot(x, y1, label='CantidadTrafico')\n",
    "plt.xlabel('Desde')\n",
    "plt.ylabel('CantidadTrafico')\n",
    "plt.title('CantidadTrafico por CategoriaNumerica en el tiempo')\n",
    "plt.legend()\n",
    "plt.show()\n"
   ]
  },
  {
   "cell_type": "code",
   "execution_count": 33,
   "metadata": {},
   "outputs": [
    {
     "name": "stdout",
     "output_type": "stream",
     "text": [
      "Int64\n"
     ]
    }
   ],
   "source": [
    "print(df_alvarado_2015['CategoriaNumerica'].dtype)\n"
   ]
  },
  {
   "cell_type": "code",
   "execution_count": 35,
   "id": "2edf36f8",
   "metadata": {},
   "outputs": [
    {
     "ename": "AttributeError",
     "evalue": "'DataFrame' object has no attribute 'loc'",
     "output_type": "error",
     "traceback": [
      "\u001b[1;31m---------------------------------------------------------------------------\u001b[0m",
      "\u001b[1;31mAttributeError\u001b[0m                            Traceback (most recent call last)",
      "Cell \u001b[1;32mIn[35], line 1\u001b[0m\n\u001b[1;32m----> 1\u001b[0m suma_categoria_1 \u001b[38;5;241m=\u001b[39m \u001b[43mdf_alvarado_2015\u001b[49m\u001b[38;5;241;43m.\u001b[39;49m\u001b[43mloc\u001b[49m[df_alvarado_2015[\u001b[38;5;124m'\u001b[39m\u001b[38;5;124mCategoriaNumerica\u001b[39m\u001b[38;5;124m'\u001b[39m] \u001b[38;5;241m==\u001b[39m \u001b[38;5;241m1\u001b[39m, \u001b[38;5;124m'\u001b[39m\u001b[38;5;124mCantidadTrafico\u001b[39m\u001b[38;5;124m'\u001b[39m]\u001b[38;5;241m.\u001b[39msum()\n\u001b[0;32m      2\u001b[0m \u001b[38;5;28mprint\u001b[39m(suma_categoria_1)\n",
      "\u001b[1;31mAttributeError\u001b[0m: 'DataFrame' object has no attribute 'loc'"
     ]
    }
   ],
   "source": [
    "suma_categoria_1 = df_alvarado_2015[df_alvarado_2015['CategoriaNumerica'] == 1]['CantidadTrafico'].sum()\n",
    "print(suma_categoria_1)\n",
    "\n"
   ]
  }
 ],
 "metadata": {
  "kernelspec": {
   "display_name": "Python 3 (ipykernel)",
   "language": "python",
   "name": "python3"
  },
  "language_info": {
   "codemirror_mode": {
    "name": "ipython",
    "version": 3
   },
   "file_extension": ".py",
   "mimetype": "text/x-python",
   "name": "python",
   "nbconvert_exporter": "python",
   "pygments_lexer": "ipython3",
   "version": "3.11.2"
  }
 },
 "nbformat": 4,
 "nbformat_minor": 5
}
